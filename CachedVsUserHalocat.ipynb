{
 "cells": [
  {
   "cell_type": "code",
   "execution_count": 10,
   "id": "7b8076d0-d76c-43d3-a62a-db9b6c239ab7",
   "metadata": {},
   "outputs": [],
   "source": [
    "from __future__ import print_function, division\n",
    "import numpy as np\n",
    "from astropy.table import Table\n",
    "import matplotlib.pyplot as plt\n",
    "%matplotlib inline\n",
    "\n",
    "from halotools.sim_manager import CachedHaloCatalog, UserSuppliedHaloCatalog\n",
    "from halotools.empirical_models import HodModelFactory\n",
    "\n",
    "from halotools.empirical_models import TrivialPhaseSpace, ZuMandelbaum15Cens, ZuMandelbaum15Sats, \\\n",
    "                                        Leauthaud11Cens, Leauthaud11Sats, Zheng07Cens, Zheng07Sats, \\\n",
    "                                        NFWPhaseSpace, SubhaloPhaseSpace"
   ]
  },
  {
   "cell_type": "code",
   "execution_count": 14,
   "id": "605f7fca-9f7f-427a-93f4-db657a64a8e9",
   "metadata": {},
   "outputs": [],
   "source": [
    "from halotools.mock_observables import tpcf\n",
    "from halotools.mock_observables.ia_correlations import ee_3d, ed_3d"
   ]
  },
  {
   "cell_type": "code",
   "execution_count": 2,
   "id": "47a4f422-0cd4-4461-a814-e40ccab3021f",
   "metadata": {},
   "outputs": [],
   "source": [
    "from halotools.empirical_models.ia_models.ia_model_components import CentralAlignment, RandomAlignment, RadialSatelliteAlignment, SubhaloAlignment\n",
    "from halotools.empirical_models.ia_models.ia_strength_models import RadialSatelliteAlignmentStrength"
   ]
  },
  {
   "cell_type": "code",
   "execution_count": 32,
   "id": "6daf3a37-d556-4db7-afae-ff7d81a681bf",
   "metadata": {},
   "outputs": [],
   "source": [
    "import warnings\n",
    "warnings.filterwarnings(\"ignore\")"
   ]
  },
  {
   "cell_type": "code",
   "execution_count": 3,
   "id": "c8c749f0-107f-4563-b2fe-e3a9cd22dcc7",
   "metadata": {},
   "outputs": [],
   "source": [
    "# Eliminate halos with 0 for halo_axisA_x(,y,z)\n",
    "def mask_bad_halocat(halocat):\n",
    "    bad_mask = (halocat.halo_table[\"halo_axisA_x\"] == 0) & (halocat.halo_table[\"halo_axisA_y\"] == 0) & (halocat.halo_table[\"halo_axisA_z\"] == 0)\n",
    "    bad_mask = bad_mask ^ np.ones(len(bad_mask), dtype=bool)\n",
    "    halocat._halo_table = halocat.halo_table[ bad_mask ]"
   ]
  },
  {
   "cell_type": "code",
   "execution_count": 12,
   "id": "c8fa928f-6f5a-45b8-afdf-4c76a96668e1",
   "metadata": {},
   "outputs": [],
   "source": [
    "def create_model(cen_mu, sat_mu, selected_halocat):\n",
    "    cens_occ_model = Leauthaud11Cens()\n",
    "    cens_prof_model = TrivialPhaseSpace()\n",
    "    cens_orientation = CentralAlignment(central_alignment_strength=cen_mu)\n",
    "    sats_occ_model = Leauthaud11Sats()\n",
    "    prof_args = (\"satellites\", np.logspace(10.5, 15.2, 15))\n",
    "    sats_prof_model = SubhaloPhaseSpace(*prof_args)\n",
    "    sats_orientation = RadialSatelliteAlignment(satellite_alignment_strength=sat_mu, halocat=selected_halocat)\n",
    "\n",
    "    model_instance = HodModelFactory(centrals_occupation = cens_occ_model,\n",
    "                                     centrals_profile = cens_prof_model,\n",
    "                                     satellites_occupation = sats_occ_model,\n",
    "                                     satellites_profile = sats_prof_model,\n",
    "                                     centrals_orientation = cens_orientation,\n",
    "                                     satellites_orientation = sats_orientation,\n",
    "                                     model_feature_calling_sequence = (\n",
    "                                     'centrals_occupation',\n",
    "                                     'centrals_profile',\n",
    "                                     'satellites_occupation',\n",
    "                                     'satellites_profile',\n",
    "                                     'centrals_orientation',\n",
    "                                     'satellites_orientation')\n",
    "                                    )\n",
    "    \n",
    "    return model_instance"
   ]
  },
  {
   "cell_type": "code",
   "execution_count": 23,
   "id": "d7937151-1143-439e-a7a4-a70ad73bc7d2",
   "metadata": {},
   "outputs": [],
   "source": [
    "def correlate(model, rbins, halocat):\n",
    "    gal_table = model.mock.galaxy_table\n",
    "    coords = np.array( [ gal_table[\"x\"], gal_table[\"y\"], gal_table[\"z\"] ] ).T\n",
    "    orientations = np.array( [ gal_table[\"galaxy_axisA_x\"], gal_table[\"galaxy_axisA_y\"], gal_table[\"galaxy_axisA_z\"] ] ).T\n",
    "    \n",
    "    xi = tpcf(coords, rbins, period = halocat.Lbox)\n",
    "    omega = ed_3d(coords, orientations, coords, rbins, period=halocat.Lbox)\n",
    "    eta = ee_3d(coords, orientations, coords, orientations, rbins, period=halocat.Lbox)\n",
    "    \n",
    "    return xi, omega, eta"
   ]
  },
  {
   "cell_type": "markdown",
   "id": "08c61655-5c8b-4815-851c-f56b55b20431",
   "metadata": {},
   "source": [
    "# Shared Parameters"
   ]
  },
  {
   "cell_type": "code",
   "execution_count": 5,
   "id": "a8cee21f-9a98-4940-a1ce-5fa61fb0fee2",
   "metadata": {},
   "outputs": [],
   "source": [
    "seed=132358712\n",
    "cen_mu = 1.0\n",
    "sat_mu = 1.0"
   ]
  },
  {
   "cell_type": "code",
   "execution_count": 16,
   "id": "b7d9c21e-01dd-424c-bcb0-f8af0a6e15fb",
   "metadata": {},
   "outputs": [],
   "source": [
    "rbins = np.logspace(-1,1.2,21)\n",
    "rbin_centers = (rbins[:-1]+rbins[1:])/2.0"
   ]
  },
  {
   "cell_type": "markdown",
   "id": "cb02502c-da35-47ec-b16d-4fc725ab4961",
   "metadata": {},
   "source": [
    "# Cached Halocat (Bolplanck)"
   ]
  },
  {
   "cell_type": "code",
   "execution_count": 8,
   "id": "ada1d54b-161e-4e56-b859-b827e1f804fe",
   "metadata": {},
   "outputs": [],
   "source": [
    "cached_halocat = CachedHaloCatalog(simname='bolplanck', halo_finder='rockstar', redshift=0, version_name='halotools_v0p4')\n",
    "mask_bad_halocat(cached_halocat)"
   ]
  },
  {
   "cell_type": "code",
   "execution_count": 13,
   "id": "b3c7be70-61a4-48a0-96d2-b4eb9f0b6a66",
   "metadata": {},
   "outputs": [
    {
     "name": "stderr",
     "output_type": "stream",
     "text": [
      "/home/nvanalfen/Documents/Python Environments/IA/lib/python3.10/site-packages/halotools/empirical_models/ia_models/ia_model_components.py:190: UserWarning: `central_alignment_strength` not detected in the table, using value in self.param_dict.\n",
      "  warn(msg)\n",
      "/home/nvanalfen/Documents/Python Environments/IA/lib/python3.10/site-packages/halotools/empirical_models/ia_models/ia_model_components.py:520: UserWarning: `satellite_alignment_strength` key not detected in `table`.The value set in self.param_dict of this class will be used instead.\n",
      "  warn(msg)\n"
     ]
    }
   ],
   "source": [
    "cached_model = create_model(cen_mu, sat_mu, cached_halocat)\n",
    "\n",
    "cached_model.populate_mock(cached_halocat,seed=seed)"
   ]
  },
  {
   "cell_type": "code",
   "execution_count": 24,
   "id": "928a0deb-fc55-4acb-bfe9-cb633e4636e3",
   "metadata": {},
   "outputs": [],
   "source": [
    "cached_xi, cached_omega, cached_eta = correlate(cached_model, rbins, cached_halocat)"
   ]
  },
  {
   "cell_type": "markdown",
   "id": "0248369c-6747-49e2-a329-2257c47ddd4b",
   "metadata": {},
   "source": [
    "# \"User-Supplied\" Halocat (Bolplanck)"
   ]
  },
  {
   "cell_type": "code",
   "execution_count": 25,
   "id": "12d7b677-ae82-4261-a68a-c5ceaa23f736",
   "metadata": {},
   "outputs": [],
   "source": [
    "selected_keys = ['halo_id', 'halo_upid', 'halo_mvir', 'halo_axisA_z','halo_axisA_x','halo_axisA_y', 'halo_vx','halo_vy','halo_vz', 'halo_x', 'halo_y', 'halo_z',\n",
    "                'halo_mvir_host_halo', 'halo_hostid', 'halo_mpeak', 'halo_rvir', 'halo_tidal_force']"
   ]
  },
  {
   "cell_type": "code",
   "execution_count": 29,
   "id": "f800f35c-68d4-4f94-b042-a380e5c1e4c3",
   "metadata": {},
   "outputs": [],
   "source": [
    "columns = { key : cached_halocat.halo_table[key] for key in selected_keys }"
   ]
  },
  {
   "cell_type": "code",
   "execution_count": 26,
   "id": "bfe151de-b60f-479f-a83b-4b2aac1cbd8c",
   "metadata": {},
   "outputs": [],
   "source": [
    "particle_mass = cached_halocat.particle_mass\n",
    "redshift = cached_halocat.redshift\n",
    "Lbox = cached_halocat.Lbox"
   ]
  },
  {
   "cell_type": "code",
   "execution_count": 30,
   "id": "1fb54144-0ac3-480f-a71b-d0f49b4d724b",
   "metadata": {},
   "outputs": [],
   "source": [
    "user_halocat = UserSuppliedHaloCatalog(particle_mass=particle_mass, redshift=redshift, Lbox=Lbox, **columns)\n",
    "mask_bad_halocat(user_halocat)"
   ]
  },
  {
   "cell_type": "code",
   "execution_count": 31,
   "id": "db5707f3-6d0a-43f5-ab05-042568121f87",
   "metadata": {},
   "outputs": [
    {
     "name": "stderr",
     "output_type": "stream",
     "text": [
      "/home/nvanalfen/Documents/Python Environments/IA/lib/python3.10/site-packages/halotools/empirical_models/factories/hod_model_factory.py:741: UserWarning: \n",
      "\n",
      "The param_dict key smhm_delta_0 appears in more than one component model.\n",
      "This is permissible, but if you are seeing this message you should be sure you understand it.\n",
      "In particular, double-check that this parameter does not have conflicting meanings across components.\n",
      "\n",
      "If you do not wish to see this message every time you instantiate, \n",
      "simply attach a _suppress_repeated_param_warning attribute \n",
      "to any of your component models and set this variable to ``True``.\n",
      "\n",
      "  warn(msg % key)\n",
      "/home/nvanalfen/Documents/Python Environments/IA/lib/python3.10/site-packages/halotools/empirical_models/factories/hod_model_factory.py:741: UserWarning: \n",
      "\n",
      "The param_dict key smhm_gamma_a appears in more than one component model.\n",
      "This is permissible, but if you are seeing this message you should be sure you understand it.\n",
      "In particular, double-check that this parameter does not have conflicting meanings across components.\n",
      "\n",
      "If you do not wish to see this message every time you instantiate, \n",
      "simply attach a _suppress_repeated_param_warning attribute \n",
      "to any of your component models and set this variable to ``True``.\n",
      "\n",
      "  warn(msg % key)\n",
      "/home/nvanalfen/Documents/Python Environments/IA/lib/python3.10/site-packages/halotools/empirical_models/factories/hod_model_factory.py:741: UserWarning: \n",
      "\n",
      "The param_dict key smhm_m0_a appears in more than one component model.\n",
      "This is permissible, but if you are seeing this message you should be sure you understand it.\n",
      "In particular, double-check that this parameter does not have conflicting meanings across components.\n",
      "\n",
      "If you do not wish to see this message every time you instantiate, \n",
      "simply attach a _suppress_repeated_param_warning attribute \n",
      "to any of your component models and set this variable to ``True``.\n",
      "\n",
      "  warn(msg % key)\n",
      "/home/nvanalfen/Documents/Python Environments/IA/lib/python3.10/site-packages/halotools/empirical_models/factories/hod_model_factory.py:741: UserWarning: \n",
      "\n",
      "The param_dict key smhm_m1_0 appears in more than one component model.\n",
      "This is permissible, but if you are seeing this message you should be sure you understand it.\n",
      "In particular, double-check that this parameter does not have conflicting meanings across components.\n",
      "\n",
      "If you do not wish to see this message every time you instantiate, \n",
      "simply attach a _suppress_repeated_param_warning attribute \n",
      "to any of your component models and set this variable to ``True``.\n",
      "\n",
      "  warn(msg % key)\n",
      "/home/nvanalfen/Documents/Python Environments/IA/lib/python3.10/site-packages/halotools/empirical_models/factories/hod_model_factory.py:741: UserWarning: \n",
      "\n",
      "The param_dict key scatter_model_param1 appears in more than one component model.\n",
      "This is permissible, but if you are seeing this message you should be sure you understand it.\n",
      "In particular, double-check that this parameter does not have conflicting meanings across components.\n",
      "\n",
      "If you do not wish to see this message every time you instantiate, \n",
      "simply attach a _suppress_repeated_param_warning attribute \n",
      "to any of your component models and set this variable to ``True``.\n",
      "\n",
      "  warn(msg % key)\n",
      "/home/nvanalfen/Documents/Python Environments/IA/lib/python3.10/site-packages/halotools/empirical_models/factories/hod_model_factory.py:741: UserWarning: \n",
      "\n",
      "The param_dict key smhm_delta_a appears in more than one component model.\n",
      "This is permissible, but if you are seeing this message you should be sure you understand it.\n",
      "In particular, double-check that this parameter does not have conflicting meanings across components.\n",
      "\n",
      "If you do not wish to see this message every time you instantiate, \n",
      "simply attach a _suppress_repeated_param_warning attribute \n",
      "to any of your component models and set this variable to ``True``.\n",
      "\n",
      "  warn(msg % key)\n",
      "/home/nvanalfen/Documents/Python Environments/IA/lib/python3.10/site-packages/halotools/empirical_models/factories/hod_model_factory.py:741: UserWarning: \n",
      "\n",
      "The param_dict key smhm_gamma_0 appears in more than one component model.\n",
      "This is permissible, but if you are seeing this message you should be sure you understand it.\n",
      "In particular, double-check that this parameter does not have conflicting meanings across components.\n",
      "\n",
      "If you do not wish to see this message every time you instantiate, \n",
      "simply attach a _suppress_repeated_param_warning attribute \n",
      "to any of your component models and set this variable to ``True``.\n",
      "\n",
      "  warn(msg % key)\n",
      "/home/nvanalfen/Documents/Python Environments/IA/lib/python3.10/site-packages/halotools/empirical_models/factories/hod_model_factory.py:741: UserWarning: \n",
      "\n",
      "The param_dict key smhm_beta_a appears in more than one component model.\n",
      "This is permissible, but if you are seeing this message you should be sure you understand it.\n",
      "In particular, double-check that this parameter does not have conflicting meanings across components.\n",
      "\n",
      "If you do not wish to see this message every time you instantiate, \n",
      "simply attach a _suppress_repeated_param_warning attribute \n",
      "to any of your component models and set this variable to ``True``.\n",
      "\n",
      "  warn(msg % key)\n",
      "/home/nvanalfen/Documents/Python Environments/IA/lib/python3.10/site-packages/halotools/empirical_models/factories/hod_model_factory.py:741: UserWarning: \n",
      "\n",
      "The param_dict key smhm_m1_a appears in more than one component model.\n",
      "This is permissible, but if you are seeing this message you should be sure you understand it.\n",
      "In particular, double-check that this parameter does not have conflicting meanings across components.\n",
      "\n",
      "If you do not wish to see this message every time you instantiate, \n",
      "simply attach a _suppress_repeated_param_warning attribute \n",
      "to any of your component models and set this variable to ``True``.\n",
      "\n",
      "  warn(msg % key)\n",
      "/home/nvanalfen/Documents/Python Environments/IA/lib/python3.10/site-packages/halotools/empirical_models/factories/hod_model_factory.py:741: UserWarning: \n",
      "\n",
      "The param_dict key smhm_beta_0 appears in more than one component model.\n",
      "This is permissible, but if you are seeing this message you should be sure you understand it.\n",
      "In particular, double-check that this parameter does not have conflicting meanings across components.\n",
      "\n",
      "If you do not wish to see this message every time you instantiate, \n",
      "simply attach a _suppress_repeated_param_warning attribute \n",
      "to any of your component models and set this variable to ``True``.\n",
      "\n",
      "  warn(msg % key)\n",
      "/home/nvanalfen/Documents/Python Environments/IA/lib/python3.10/site-packages/halotools/empirical_models/factories/hod_model_factory.py:741: UserWarning: \n",
      "\n",
      "The param_dict key smhm_m0_0 appears in more than one component model.\n",
      "This is permissible, but if you are seeing this message you should be sure you understand it.\n",
      "In particular, double-check that this parameter does not have conflicting meanings across components.\n",
      "\n",
      "If you do not wish to see this message every time you instantiate, \n",
      "simply attach a _suppress_repeated_param_warning attribute \n",
      "to any of your component models and set this variable to ``True``.\n",
      "\n",
      "  warn(msg % key)\n",
      "/home/nvanalfen/Documents/Python Environments/IA/lib/python3.10/site-packages/halotools/empirical_models/ia_models/ia_model_components.py:190: UserWarning: `central_alignment_strength` not detected in the table, using value in self.param_dict.\n",
      "  warn(msg)\n",
      "/home/nvanalfen/Documents/Python Environments/IA/lib/python3.10/site-packages/halotools/empirical_models/ia_models/ia_model_components.py:520: UserWarning: `satellite_alignment_strength` key not detected in `table`.The value set in self.param_dict of this class will be used instead.\n",
      "  warn(msg)\n"
     ]
    }
   ],
   "source": [
    "user_model = create_model(cen_mu, sat_mu, user_halocat)\n",
    "\n",
    "user_model.populate_mock(user_halocat,seed=seed)"
   ]
  },
  {
   "cell_type": "markdown",
   "id": "8b503fec-65ee-4bd2-a5a3-ae020cb3c967",
   "metadata": {},
   "source": [
    "# Plot Comparisons"
   ]
  },
  {
   "cell_type": "code",
   "execution_count": null,
   "id": "116ae1b3-259d-4a1a-84c0-1f4c0e9bbaf2",
   "metadata": {},
   "outputs": [],
   "source": []
  }
 ],
 "metadata": {
  "kernelspec": {
   "display_name": "IA",
   "language": "python",
   "name": "ia"
  },
  "language_info": {
   "codemirror_mode": {
    "name": "ipython",
    "version": 3
   },
   "file_extension": ".py",
   "mimetype": "text/x-python",
   "name": "python",
   "nbconvert_exporter": "python",
   "pygments_lexer": "ipython3",
   "version": "3.10.12"
  }
 },
 "nbformat": 4,
 "nbformat_minor": 5
}
