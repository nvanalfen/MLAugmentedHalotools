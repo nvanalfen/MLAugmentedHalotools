{
 "cells": [
  {
   "cell_type": "code",
   "execution_count": 1,
   "id": "7b8076d0-d76c-43d3-a62a-db9b6c239ab7",
   "metadata": {},
   "outputs": [],
   "source": [
    "from __future__ import print_function, division\n",
    "import numpy as np\n",
    "from astropy.table import Table\n",
    "import matplotlib.pyplot as plt\n",
    "%matplotlib inline\n",
    "\n",
    "from halotools.sim_manager import CachedHaloCatalog, UserSuppliedHaloCatalog\n",
    "from halotools.empirical_models import HodModelFactory\n",
    "\n",
    "from halotools.empirical_models import TrivialPhaseSpace, ZuMandelbaum15Cens, ZuMandelbaum15Sats, \\\n",
    "                                        Leauthaud11Cens, Leauthaud11Sats, Zheng07Cens, Zheng07Sats, \\\n",
    "                                        NFWPhaseSpace, SubhaloPhaseSpace"
   ]
  },
  {
   "cell_type": "code",
   "execution_count": 2,
   "id": "605f7fca-9f7f-427a-93f4-db657a64a8e9",
   "metadata": {},
   "outputs": [],
   "source": [
    "from halotools.mock_observables import tpcf\n",
    "from halotools.mock_observables.ia_correlations import ee_3d, ed_3d"
   ]
  },
  {
   "cell_type": "code",
   "execution_count": 3,
   "id": "47a4f422-0cd4-4461-a814-e40ccab3021f",
   "metadata": {},
   "outputs": [],
   "source": [
    "from halotools.empirical_models.ia_models.ia_model_components import CentralAlignment, RandomAlignment, RadialSatelliteAlignment, SubhaloAlignment\n",
    "from halotools.empirical_models.ia_models.ia_strength_models import RadialSatelliteAlignmentStrength"
   ]
  },
  {
   "cell_type": "code",
   "execution_count": 4,
   "id": "6daf3a37-d556-4db7-afae-ff7d81a681bf",
   "metadata": {},
   "outputs": [],
   "source": [
    "import warnings\n",
    "warnings.filterwarnings(\"ignore\")"
   ]
  },
  {
   "cell_type": "code",
   "execution_count": 5,
   "id": "c8c749f0-107f-4563-b2fe-e3a9cd22dcc7",
   "metadata": {},
   "outputs": [],
   "source": [
    "# Eliminate halos with 0 for halo_axisA_x(,y,z)\n",
    "def mask_bad_halocat(halocat):\n",
    "    bad_mask = (halocat.halo_table[\"halo_axisA_x\"] == 0) & (halocat.halo_table[\"halo_axisA_y\"] == 0) & (halocat.halo_table[\"halo_axisA_z\"] == 0)\n",
    "    bad_mask = bad_mask ^ np.ones(len(bad_mask), dtype=bool)\n",
    "    halocat._halo_table = halocat.halo_table[ bad_mask ]"
   ]
  },
  {
   "cell_type": "code",
   "execution_count": 6,
   "id": "c8fa928f-6f5a-45b8-afdf-4c76a96668e1",
   "metadata": {},
   "outputs": [],
   "source": [
    "def create_model(cen_mu, sat_mu, selected_halocat):\n",
    "    cens_occ_model = Zheng07Cens()\n",
    "    cens_prof_model = TrivialPhaseSpace()\n",
    "    cens_orientation = CentralAlignment(central_alignment_strength=cen_mu)\n",
    "    sats_occ_model = Zheng07Sats()\n",
    "    prof_args = (\"satellites\", np.logspace(10.5, 15.2, 15))\n",
    "    sats_prof_model = SubhaloPhaseSpace(*prof_args)\n",
    "    sats_prof_model = NFWPhaseSpace(conc_mass_model=\"dutton_maccio14\")\n",
    "    sats_orientation = RadialSatelliteAlignment(satellite_alignment_strength=sat_mu, halocat=selected_halocat)\n",
    "\n",
    "    model_instance = HodModelFactory(centrals_occupation = cens_occ_model,\n",
    "                                     centrals_profile = cens_prof_model,\n",
    "                                     satellites_occupation = sats_occ_model,\n",
    "                                     satellites_profile = sats_prof_model,\n",
    "                                     centrals_orientation = cens_orientation,\n",
    "                                     satellites_orientation = sats_orientation,\n",
    "                                     model_feature_calling_sequence = (\n",
    "                                     'centrals_occupation',\n",
    "                                     'centrals_profile',\n",
    "                                     'satellites_occupation',\n",
    "                                     'satellites_profile',\n",
    "                                     'centrals_orientation',\n",
    "                                     'satellites_orientation')\n",
    "                                    )\n",
    "    \n",
    "    return model_instance"
   ]
  },
  {
   "cell_type": "code",
   "execution_count": 7,
   "id": "d7937151-1143-439e-a7a4-a70ad73bc7d2",
   "metadata": {},
   "outputs": [],
   "source": [
    "def correlate(model, rbins, halocat):\n",
    "    gal_table = model.mock.galaxy_table\n",
    "    coords = np.array( [ gal_table[\"x\"], gal_table[\"y\"], gal_table[\"z\"] ] ).T\n",
    "    orientations = np.array( [ gal_table[\"galaxy_axisA_x\"], gal_table[\"galaxy_axisA_y\"], gal_table[\"galaxy_axisA_z\"] ] ).T\n",
    "    \n",
    "    xi = tpcf(coords, rbins, period = halocat.Lbox)\n",
    "    omega = ed_3d(coords, orientations, coords, rbins, period=halocat.Lbox)\n",
    "    eta = ee_3d(coords, orientations, coords, orientations, rbins, period=halocat.Lbox)\n",
    "    \n",
    "    return xi, omega, eta"
   ]
  },
  {
   "cell_type": "markdown",
   "id": "08c61655-5c8b-4815-851c-f56b55b20431",
   "metadata": {},
   "source": [
    "# Shared Parameters"
   ]
  },
  {
   "cell_type": "code",
   "execution_count": 8,
   "id": "a8cee21f-9a98-4940-a1ce-5fa61fb0fee2",
   "metadata": {},
   "outputs": [],
   "source": [
    "seed=132358712\n",
    "cen_mu = 1.0\n",
    "sat_mu = 1.0"
   ]
  },
  {
   "cell_type": "code",
   "execution_count": 9,
   "id": "b7d9c21e-01dd-424c-bcb0-f8af0a6e15fb",
   "metadata": {},
   "outputs": [],
   "source": [
    "rbins = np.logspace(-1,1.2,21)\n",
    "rbin_centers = (rbins[:-1]+rbins[1:])/2.0"
   ]
  },
  {
   "cell_type": "markdown",
   "id": "cb02502c-da35-47ec-b16d-4fc725ab4961",
   "metadata": {},
   "source": [
    "# Cached Halocat (Bolplanck)"
   ]
  },
  {
   "cell_type": "code",
   "execution_count": 10,
   "id": "ada1d54b-161e-4e56-b859-b827e1f804fe",
   "metadata": {},
   "outputs": [],
   "source": [
    "cached_halocat = CachedHaloCatalog(simname='bolplanck', halo_finder='rockstar', redshift=0, version_name='halotools_v0p4')\n",
    "mask_bad_halocat(cached_halocat)"
   ]
  },
  {
   "cell_type": "code",
   "execution_count": 58,
   "id": "b3c7be70-61a4-48a0-96d2-b4eb9f0b6a66",
   "metadata": {},
   "outputs": [],
   "source": [
    "cached_model = create_model(cen_mu, sat_mu, cached_halocat)\n",
    "\n",
    "cached_model.populate_mock(cached_halocat,seed=seed)"
   ]
  },
  {
   "cell_type": "code",
   "execution_count": 59,
   "id": "928a0deb-fc55-4acb-bfe9-cb633e4636e3",
   "metadata": {},
   "outputs": [],
   "source": [
    "cached_xi, cached_omega, cached_eta = correlate(cached_model, rbins, cached_halocat)"
   ]
  },
  {
   "cell_type": "markdown",
   "id": "0248369c-6747-49e2-a329-2257c47ddd4b",
   "metadata": {},
   "source": [
    "# \"User-Supplied\" Halocat (Bolplanck)"
   ]
  },
  {
   "cell_type": "code",
   "execution_count": 80,
   "id": "12d7b677-ae82-4261-a68a-c5ceaa23f736",
   "metadata": {},
   "outputs": [],
   "source": [
    "selected_keys = ['halo_id', 'halo_upid', 'halo_mvir', 'halo_axisA_z','halo_axisA_x','halo_axisA_y', 'halo_vx','halo_vy','halo_vz', 'halo_x', 'halo_y', 'halo_z',\n",
    "                'halo_mvir_host_halo', 'halo_hostid', 'halo_mpeak', 'halo_rvir', 'halo_tidal_force']\n",
    "selected_keys = ['halo_id', 'halo_upid', 'halo_mvir', 'halo_axisA_z','halo_axisA_x','halo_axisA_y', 'halo_vx','halo_vy','halo_vz', 'halo_x', 'halo_y', 'halo_z',\n",
    "                'halo_hostid', 'halo_rvir']"
   ]
  },
  {
   "cell_type": "code",
   "execution_count": 81,
   "id": "f800f35c-68d4-4f94-b042-a380e5c1e4c3",
   "metadata": {},
   "outputs": [],
   "source": [
    "columns = { key : cached_halocat.halo_table[key] for key in selected_keys }"
   ]
  },
  {
   "cell_type": "code",
   "execution_count": 82,
   "id": "bfe151de-b60f-479f-a83b-4b2aac1cbd8c",
   "metadata": {},
   "outputs": [],
   "source": [
    "particle_mass = cached_halocat.particle_mass\n",
    "redshift = cached_halocat.redshift\n",
    "Lbox = cached_halocat.Lbox"
   ]
  },
  {
   "cell_type": "code",
   "execution_count": 83,
   "id": "1fb54144-0ac3-480f-a71b-d0f49b4d724b",
   "metadata": {},
   "outputs": [],
   "source": [
    "user_halocat = UserSuppliedHaloCatalog(particle_mass=particle_mass, redshift=redshift, Lbox=Lbox, **columns)\n",
    "mask_bad_halocat(user_halocat)"
   ]
  },
  {
   "cell_type": "code",
   "execution_count": 84,
   "id": "db5707f3-6d0a-43f5-ab05-042568121f87",
   "metadata": {},
   "outputs": [
    {
     "ename": "HalotoolsError",
     "evalue": "Your model requires that the ``halo_rvir`` key appear in the halo catalog,\nbut this column is not available in the catalog you attempted to populate.\n",
     "output_type": "error",
     "traceback": [
      "\u001b[0;31m---------------------------------------------------------------------------\u001b[0m",
      "\u001b[0;31mKeyError\u001b[0m                                  Traceback (most recent call last)",
      "File \u001b[0;32m~/Documents/Python Environments/IA/lib/python3.10/site-packages/halotools/empirical_models/factories/hod_mock_factory.py:190\u001b[0m, in \u001b[0;36mHodMockFactory.preprocess_halo_catalog\u001b[0;34m(self, halocat)\u001b[0m\n\u001b[1;32m    189\u001b[0m \u001b[38;5;28;01mtry\u001b[39;00m:\n\u001b[0;32m--> 190\u001b[0m     \u001b[38;5;28mself\u001b[39m\u001b[38;5;241m.\u001b[39m_orig_halo_table[key] \u001b[38;5;241m=\u001b[39m \u001b[43mhalo_table\u001b[49m\u001b[43m[\u001b[49m\u001b[43mkey\u001b[49m\u001b[43m]\u001b[49m[:]\n\u001b[1;32m    191\u001b[0m \u001b[38;5;28;01mexcept\u001b[39;00m \u001b[38;5;167;01mKeyError\u001b[39;00m:\n",
      "File \u001b[0;32m~/Documents/Python Environments/IA/lib/python3.10/site-packages/astropy/table/table.py:1874\u001b[0m, in \u001b[0;36mTable.__getitem__\u001b[0;34m(self, item)\u001b[0m\n\u001b[1;32m   1873\u001b[0m \u001b[38;5;28;01mif\u001b[39;00m \u001b[38;5;28misinstance\u001b[39m(item, \u001b[38;5;28mstr\u001b[39m):\n\u001b[0;32m-> 1874\u001b[0m     \u001b[38;5;28;01mreturn\u001b[39;00m \u001b[38;5;28;43mself\u001b[39;49m\u001b[38;5;241;43m.\u001b[39;49m\u001b[43mcolumns\u001b[49m\u001b[43m[\u001b[49m\u001b[43mitem\u001b[49m\u001b[43m]\u001b[49m\n\u001b[1;32m   1875\u001b[0m \u001b[38;5;28;01melif\u001b[39;00m \u001b[38;5;28misinstance\u001b[39m(item, (\u001b[38;5;28mint\u001b[39m, np\u001b[38;5;241m.\u001b[39minteger)):\n",
      "File \u001b[0;32m~/Documents/Python Environments/IA/lib/python3.10/site-packages/astropy/table/table.py:246\u001b[0m, in \u001b[0;36mTableColumns.__getitem__\u001b[0;34m(self, item)\u001b[0m\n\u001b[1;32m    245\u001b[0m \u001b[38;5;28;01mif\u001b[39;00m \u001b[38;5;28misinstance\u001b[39m(item, \u001b[38;5;28mstr\u001b[39m):\n\u001b[0;32m--> 246\u001b[0m     \u001b[38;5;28;01mreturn\u001b[39;00m \u001b[43mOrderedDict\u001b[49m\u001b[38;5;241;43m.\u001b[39;49m\u001b[38;5;21;43m__getitem__\u001b[39;49m\u001b[43m(\u001b[49m\u001b[38;5;28;43mself\u001b[39;49m\u001b[43m,\u001b[49m\u001b[43m \u001b[49m\u001b[43mitem\u001b[49m\u001b[43m)\u001b[49m\n\u001b[1;32m    247\u001b[0m \u001b[38;5;28;01melif\u001b[39;00m \u001b[38;5;28misinstance\u001b[39m(item, (\u001b[38;5;28mint\u001b[39m, np\u001b[38;5;241m.\u001b[39minteger)):\n",
      "\u001b[0;31mKeyError\u001b[0m: 'halo_rvir'",
      "\nDuring handling of the above exception, another exception occurred:\n",
      "\u001b[0;31mHalotoolsError\u001b[0m                            Traceback (most recent call last)",
      "Cell \u001b[0;32mIn[89], line 3\u001b[0m\n\u001b[1;32m      1\u001b[0m user_model \u001b[38;5;241m=\u001b[39m create_model(cen_mu, sat_mu, user_halocat)\n\u001b[0;32m----> 3\u001b[0m \u001b[43muser_model\u001b[49m\u001b[38;5;241;43m.\u001b[39;49m\u001b[43mpopulate_mock\u001b[49m\u001b[43m(\u001b[49m\u001b[43muser_halocat\u001b[49m\u001b[43m,\u001b[49m\u001b[43mseed\u001b[49m\u001b[38;5;241;43m=\u001b[39;49m\u001b[43mseed\u001b[49m\u001b[43m)\u001b[49m\n",
      "File \u001b[0;32m~/Documents/Python Environments/IA/lib/python3.10/site-packages/halotools/empirical_models/factories/hod_model_factory.py:1209\u001b[0m, in \u001b[0;36mHodModelFactory.populate_mock\u001b[0;34m(self, halocat, **kwargs)\u001b[0m\n\u001b[1;32m   1090\u001b[0m \u001b[38;5;28;01mdef\u001b[39;00m \u001b[38;5;21mpopulate_mock\u001b[39m(\u001b[38;5;28mself\u001b[39m, halocat, \u001b[38;5;241m*\u001b[39m\u001b[38;5;241m*\u001b[39mkwargs):\n\u001b[1;32m   1091\u001b[0m \u001b[38;5;250m    \u001b[39m\u001b[38;5;124;03m\"\"\"\u001b[39;00m\n\u001b[1;32m   1092\u001b[0m \u001b[38;5;124;03m    Method used to populate a simulation\u001b[39;00m\n\u001b[1;32m   1093\u001b[0m \u001b[38;5;124;03m    with a Monte Carlo realization of a model.\u001b[39;00m\n\u001b[0;32m   (...)\u001b[0m\n\u001b[1;32m   1207\u001b[0m \n\u001b[1;32m   1208\u001b[0m \u001b[38;5;124;03m    \"\"\"\u001b[39;00m\n\u001b[0;32m-> 1209\u001b[0m     \u001b[43mModelFactory\u001b[49m\u001b[38;5;241;43m.\u001b[39;49m\u001b[43mpopulate_mock\u001b[49m\u001b[43m(\u001b[49m\u001b[38;5;28;43mself\u001b[39;49m\u001b[43m,\u001b[49m\u001b[43m \u001b[49m\u001b[43mhalocat\u001b[49m\u001b[43m,\u001b[49m\u001b[43m \u001b[49m\u001b[38;5;241;43m*\u001b[39;49m\u001b[38;5;241;43m*\u001b[39;49m\u001b[43mkwargs\u001b[49m\u001b[43m)\u001b[49m\n",
      "File \u001b[0;32m~/Documents/Python Environments/IA/lib/python3.10/site-packages/halotools/empirical_models/factories/model_factory_template.py:244\u001b[0m, in \u001b[0;36mModelFactory.populate_mock\u001b[0;34m(self, halocat, Num_ptcl_requirement, **kwargs)\u001b[0m\n\u001b[1;32m    242\u001b[0m \u001b[38;5;28;01mexcept\u001b[39;00m \u001b[38;5;167;01mKeyError\u001b[39;00m:\n\u001b[1;32m    243\u001b[0m     \u001b[38;5;28;01mpass\u001b[39;00m\n\u001b[0;32m--> 244\u001b[0m \u001b[38;5;28mself\u001b[39m\u001b[38;5;241m.\u001b[39mmock \u001b[38;5;241m=\u001b[39m \u001b[38;5;28;43mself\u001b[39;49m\u001b[38;5;241;43m.\u001b[39;49m\u001b[43mmock_factory\u001b[49m\u001b[43m(\u001b[49m\u001b[38;5;241;43m*\u001b[39;49m\u001b[38;5;241;43m*\u001b[39;49m\u001b[43mmock_factory_init_args\u001b[49m\u001b[43m)\u001b[49m\n\u001b[1;32m    246\u001b[0m additional_potential_kwargs \u001b[38;5;241m=\u001b[39m (\n\u001b[1;32m    247\u001b[0m     \u001b[38;5;124m\"\u001b[39m\u001b[38;5;124mmasking_function\u001b[39m\u001b[38;5;124m\"\u001b[39m,\n\u001b[1;32m    248\u001b[0m     \u001b[38;5;124m\"\u001b[39m\u001b[38;5;124m_testing_mode\u001b[39m\u001b[38;5;124m\"\u001b[39m,\n\u001b[1;32m    249\u001b[0m     \u001b[38;5;124m\"\u001b[39m\u001b[38;5;124menforce_PBC\u001b[39m\u001b[38;5;124m\"\u001b[39m,\n\u001b[1;32m    250\u001b[0m     \u001b[38;5;124m\"\u001b[39m\u001b[38;5;124mseed\u001b[39m\u001b[38;5;124m\"\u001b[39m,\n\u001b[1;32m    251\u001b[0m )\n\u001b[1;32m    252\u001b[0m mockpop_keys \u001b[38;5;241m=\u001b[39m \u001b[38;5;28mset\u001b[39m(additional_potential_kwargs) \u001b[38;5;241m&\u001b[39m \u001b[38;5;28mset\u001b[39m(kwargs)\n",
      "File \u001b[0;32m~/Documents/Python Environments/IA/lib/python3.10/site-packages/halotools/empirical_models/factories/hod_mock_factory.py:101\u001b[0m, in \u001b[0;36mHodMockFactory.__init__\u001b[0;34m(self, Num_ptcl_requirement, halo_mass_column_key, **kwargs)\u001b[0m\n\u001b[1;32m     98\u001b[0m \u001b[38;5;28mself\u001b[39m\u001b[38;5;241m.\u001b[39mNum_ptcl_requirement \u001b[38;5;241m=\u001b[39m Num_ptcl_requirement\n\u001b[1;32m     99\u001b[0m \u001b[38;5;28mself\u001b[39m\u001b[38;5;241m.\u001b[39mhalo_mass_column_key \u001b[38;5;241m=\u001b[39m halo_mass_column_key\n\u001b[0;32m--> 101\u001b[0m \u001b[38;5;28;43mself\u001b[39;49m\u001b[38;5;241;43m.\u001b[39;49m\u001b[43mpreprocess_halo_catalog\u001b[49m\u001b[43m(\u001b[49m\u001b[43mhalocat\u001b[49m\u001b[43m)\u001b[49m\n",
      "File \u001b[0;32m~/Documents/Python Environments/IA/lib/python3.10/site-packages/halotools/empirical_models/factories/hod_mock_factory.py:192\u001b[0m, in \u001b[0;36mHodMockFactory.preprocess_halo_catalog\u001b[0;34m(self, halocat)\u001b[0m\n\u001b[1;32m    190\u001b[0m         \u001b[38;5;28mself\u001b[39m\u001b[38;5;241m.\u001b[39m_orig_halo_table[key] \u001b[38;5;241m=\u001b[39m halo_table[key][:]\n\u001b[1;32m    191\u001b[0m     \u001b[38;5;28;01mexcept\u001b[39;00m \u001b[38;5;167;01mKeyError\u001b[39;00m:\n\u001b[0;32m--> 192\u001b[0m         \u001b[38;5;28;01mraise\u001b[39;00m HalotoolsError(unavailable_haloprop_msg \u001b[38;5;241m%\u001b[39m key)\n\u001b[1;32m    194\u001b[0m \u001b[38;5;28mself\u001b[39m\u001b[38;5;241m.\u001b[39mmodel\u001b[38;5;241m.\u001b[39mbuild_lookup_tables()\n",
      "\u001b[0;31mHalotoolsError\u001b[0m: Your model requires that the ``halo_rvir`` key appear in the halo catalog,\nbut this column is not available in the catalog you attempted to populate.\n"
     ]
    }
   ],
   "source": [
    "user_model = create_model(cen_mu, sat_mu, user_halocat)\n",
    "\n",
    "user_model.populate_mock(user_halocat,seed=seed)"
   ]
  },
  {
   "cell_type": "code",
   "execution_count": 44,
   "id": "e06e3bd4-56f9-420a-af04-c4cebee1d933",
   "metadata": {},
   "outputs": [
    {
     "data": {
      "text/html": [
       "<div><i>Table length=1444186</i>\n",
       "<table id=\"table139827122568592\" class=\"table-striped table-bordered table-condensed\">\n",
       "<thead><tr><th>halo_id</th><th>halo_upid</th><th>halo_mvir</th><th>halo_axisA_z</th><th>halo_axisA_x</th><th>halo_axisA_y</th><th>halo_vx</th><th>halo_vy</th><th>halo_vz</th><th>halo_x</th><th>halo_y</th><th>halo_z</th><th>halo_mvir_host_halo</th><th>halo_hostid</th><th>halo_mpeak</th><th>halo_rvir</th><th>halo_tidal_force</th></tr></thead>\n",
       "<thead><tr><th>int64</th><th>int64</th><th>float32</th><th>float32</th><th>float32</th><th>float32</th><th>float32</th><th>float32</th><th>float32</th><th>float32</th><th>float32</th><th>float32</th><th>float32</th><th>int64</th><th>float32</th><th>float32</th><th>float32</th></tr></thead>\n",
       "<tr><td>2811042639</td><td>-1</td><td>200800000000000.0</td><td>19.2231</td><td>59.7891</td><td>-18.8001</td><td>16.1</td><td>8.51</td><td>-78.88</td><td>36.17984</td><td>43.14082</td><td>17.96339</td><td>200800000000000.0</td><td>2811042639</td><td>200800000000000.0</td><td>1.190447</td><td>0.11954</td></tr>\n",
       "<tr><td>2811055606</td><td>-1</td><td>179600000000000.0</td><td>41.2062</td><td>34.6803</td><td>17.8882</td><td>2.46</td><td>264.77</td><td>-128.08</td><td>45.36644</td><td>49.54417</td><td>40.01593</td><td>179600000000000.0</td><td>2811055606</td><td>179600000000000.0</td><td>1.146849</td><td>0.50587</td></tr>\n",
       "<tr><td>2809250167</td><td>-1</td><td>129800000000000.0</td><td>-17.5268</td><td>38.9596</td><td>24.3626</td><td>18.49</td><td>124.89</td><td>-35.19</td><td>22.02318</td><td>13.88261</td><td>9.80153</td><td>129800000000000.0</td><td>2809250167</td><td>129800000000000.0</td><td>1.029343</td><td>0.07568</td></tr>\n",
       "<tr><td>2809483946</td><td>-1</td><td>103000000000000.0</td><td>24.7744</td><td>-10.3568</td><td>38.9949</td><td>-281.37</td><td>-115.39</td><td>-391.28</td><td>12.29788</td><td>36.67881</td><td>34.18085</td><td>103000000000000.0</td><td>2809483946</td><td>103000000000000.0</td><td>0.952978</td><td>0.09677</td></tr>\n",
       "<tr><td>2809272603</td><td>-1</td><td>99470000000000.0</td><td>29.2183</td><td>52.7796</td><td>6.18836</td><td>-43.87</td><td>292.95</td><td>-171.47</td><td>10.66037</td><td>26.12877</td><td>22.5009</td><td>99470000000000.0</td><td>2809272603</td><td>99470000000000.0</td><td>0.941893</td><td>0.12465</td></tr>\n",
       "<tr><td>2809261554</td><td>-1</td><td>95030000000000.0</td><td>1.58553</td><td>39.1732</td><td>-18.0791</td><td>281.14</td><td>229.38</td><td>224.59</td><td>1.93592</td><td>29.5494</td><td>18.1172</td><td>95030000000000.0</td><td>2809261554</td><td>99560000000000.0</td><td>0.92767197</td><td>0.18597</td></tr>\n",
       "<tr><td>...</td><td>...</td><td>...</td><td>...</td><td>...</td><td>...</td><td>...</td><td>...</td><td>...</td><td>...</td><td>...</td><td>...</td><td>...</td><td>...</td><td>...</td><td>...</td><td>...</td></tr>\n",
       "<tr><td>2821890540</td><td>2821900623</td><td>1395000000.0</td><td>0.82819</td><td>3.56472</td><td>2.10328</td><td>317.78</td><td>6.4</td><td>116.3</td><td>226.41032</td><td>227.20032</td><td>219.2786</td><td>37230000000000.0</td><td>2821900623</td><td>46950000000.0</td><td>0.022712</td><td>2.62804</td></tr>\n",
       "<tr><td>2821924303</td><td>2821924306</td><td>1395000000.0</td><td>-6.35833</td><td>6.06988</td><td>6.92538</td><td>254.4</td><td>84.66</td><td>-368.57</td><td>245.33875</td><td>231.06435</td><td>247.26727</td><td>3644000000000.0</td><td>2821924306</td><td>49430000000.0</td><td>0.022712</td><td>1.80501</td></tr>\n",
       "<tr><td>2821710596</td><td>2821710599</td><td>1240000000.0</td><td>7.46929</td><td>-4.52539</td><td>-1.82409</td><td>80.43</td><td>53.55</td><td>-622.75</td><td>242.45152</td><td>208.93185</td><td>230.59128</td><td>6389000000000.0</td><td>2821710599</td><td>65710000000.0</td><td>0.021838</td><td>3.2851</td></tr>\n",
       "<tr><td>2821721241</td><td>2821721359</td><td>1240000000.0</td><td>4.91149</td><td>9.93727</td><td>0.85491</td><td>433.62</td><td>340.72</td><td>-153.88</td><td>244.31686</td><td>206.29582</td><td>235.29453</td><td>98260000000000.0</td><td>2821721359</td><td>56560000000.0</td><td>0.021838</td><td>1.98768</td></tr>\n",
       "<tr><td>2821910638</td><td>2821910641</td><td>1240000000.0</td><td>-0.92161</td><td>5.20029</td><td>-1.90475</td><td>463.57</td><td>157.8</td><td>-732.8</td><td>238.88419</td><td>215.9411</td><td>223.72176</td><td>15490000000000.0</td><td>2821910641</td><td>93750000000.0</td><td>0.021838</td><td>3.35995</td></tr>\n",
       "<tr><td>2821910961</td><td>2821910965</td><td>774800000.0</td><td>0.1145</td><td>4.35218</td><td>7.47694</td><td>184.09</td><td>112.65</td><td>-163.83</td><td>230.83876</td><td>242.62225</td><td>234.04445</td><td>17730000000000.0</td><td>2821910965</td><td>66940000000.0</td><td>0.018671</td><td>1.74727</td></tr>\n",
       "<tr><td>2821890564</td><td>2821900623</td><td>619900000.0</td><td>4.47965</td><td>-0.14256</td><td>3.73468</td><td>852.95</td><td>578.57</td><td>291.7</td><td>226.27744</td><td>226.95183</td><td>219.21077</td><td>37230000000000.0</td><td>2821900623</td><td>91120000000.0</td><td>0.017333</td><td>3.45694</td></tr>\n",
       "</table></div>"
      ],
      "text/plain": [
       "<Table length=1444186>\n",
       " halo_id   halo_upid      halo_mvir     ... halo_rvir  halo_tidal_force\n",
       "  int64      int64         float32      ...  float32       float32     \n",
       "---------- ---------- ----------------- ... ---------- ----------------\n",
       "2811042639         -1 200800000000000.0 ...   1.190447          0.11954\n",
       "2811055606         -1 179600000000000.0 ...   1.146849          0.50587\n",
       "2809250167         -1 129800000000000.0 ...   1.029343          0.07568\n",
       "2809483946         -1 103000000000000.0 ...   0.952978          0.09677\n",
       "2809272603         -1  99470000000000.0 ...   0.941893          0.12465\n",
       "2809261554         -1  95030000000000.0 ... 0.92767197          0.18597\n",
       "       ...        ...               ... ...        ...              ...\n",
       "2821890540 2821900623      1395000000.0 ...   0.022712          2.62804\n",
       "2821924303 2821924306      1395000000.0 ...   0.022712          1.80501\n",
       "2821710596 2821710599      1240000000.0 ...   0.021838           3.2851\n",
       "2821721241 2821721359      1240000000.0 ...   0.021838          1.98768\n",
       "2821910638 2821910641      1240000000.0 ...   0.021838          3.35995\n",
       "2821910961 2821910965       774800000.0 ...   0.018671          1.74727\n",
       "2821890564 2821900623       619900000.0 ...   0.017333          3.45694"
      ]
     },
     "execution_count": 44,
     "metadata": {},
     "output_type": "execute_result"
    }
   ],
   "source": [
    "user_halocat.halo_table"
   ]
  },
  {
   "cell_type": "code",
   "execution_count": null,
   "id": "497ec434-2b95-42f2-84f8-16463b6cf046",
   "metadata": {},
   "outputs": [],
   "source": [
    "user_xi, user_omega, user_eta = correlate(user_model, rbins, user_halocat)"
   ]
  },
  {
   "cell_type": "markdown",
   "id": "8b503fec-65ee-4bd2-a5a3-ae020cb3c967",
   "metadata": {},
   "source": [
    "# Plot Comparisons"
   ]
  },
  {
   "cell_type": "code",
   "execution_count": null,
   "id": "116ae1b3-259d-4a1a-84c0-1f4c0e9bbaf2",
   "metadata": {},
   "outputs": [],
   "source": [
    "# Create a 1x3 grid of subplots\n",
    "fig, axes = plt.subplots(1, 3, figsize=(12, 4))\n",
    "\n",
    "# Plot data in the first subplot\n",
    "axes[0].plot(rbin_centers, cached_xi, label=\"Cached Catalog\")\n",
    "axes[0].plot(rbin_centers, user_xi, \"o\", label=\"User Catalog\")\n",
    "axes[0].set_title(r'$\\xi$')\n",
    "axes[0].legend()\n",
    "\n",
    "# Plot data in the second subplot\n",
    "axes[1].plot(rbin_centers, cached_omega)\n",
    "axes[1].plot(rbin_centers, user_omega, \"o\")\n",
    "axes[1].set_title(r'$\\omega$')\n",
    "\n",
    "# Plot data in the third subplot\n",
    "axes[2].plot(rbin_centers, cached_eta)\n",
    "axes[2].plot(rbin_centers, user_eta, \"o\")\n",
    "axes[2].set_title(r'$\\eta$')\n",
    "\n",
    "# Adjust spacing between subplots\n",
    "plt.tight_layout()\n",
    "\n",
    "# Display the plots\n",
    "for ax in axes:\n",
    "    ax.set_xscale(\"log\")\n",
    "    ax.set_yscale(\"log\")\n",
    "plt.show()"
   ]
  },
  {
   "cell_type": "code",
   "execution_count": 48,
   "id": "e5a21a74-ac55-48cd-9182-85649a2654b8",
   "metadata": {},
   "outputs": [
    {
     "name": "stdout",
     "output_type": "stream",
     "text": [
      "619900000.0\n",
      "1269000000000000.0\n",
      "1268999400000000.0\n"
     ]
    }
   ],
   "source": [
    "print(min(cached_halocat.halo_table[\"halo_mvir\"]))\n",
    "print(max(cached_halocat.halo_table[\"halo_mvir\"]))\n",
    "print(max(cached_halocat.halo_table[\"halo_mvir\"])-min(cached_halocat.halo_table[\"halo_mvir\"]))"
   ]
  },
  {
   "cell_type": "code",
   "execution_count": 53,
   "id": "7bad9f16-5d34-4e11-80e2-8896ab234694",
   "metadata": {},
   "outputs": [
    {
     "data": {
      "text/html": [
       "<div><i>Table length=1444186</i>\n",
       "<table id=\"table139827127441760\" class=\"table-striped table-bordered table-condensed\">\n",
       "<thead><tr><th>halo_id</th><th>halo_upid</th><th>halo_mvir</th><th>halo_mvir_host_halo</th></tr></thead>\n",
       "<thead><tr><th>int64</th><th>int64</th><th>float32</th><th>float32</th></tr></thead>\n",
       "<tr><td>2811042639</td><td>-1</td><td>200800000000000.0</td><td>200800000000000.0</td></tr>\n",
       "<tr><td>2811055606</td><td>-1</td><td>179600000000000.0</td><td>179600000000000.0</td></tr>\n",
       "<tr><td>2809250167</td><td>-1</td><td>129800000000000.0</td><td>129800000000000.0</td></tr>\n",
       "<tr><td>2809483946</td><td>-1</td><td>103000000000000.0</td><td>103000000000000.0</td></tr>\n",
       "<tr><td>2809272603</td><td>-1</td><td>99470000000000.0</td><td>99470000000000.0</td></tr>\n",
       "<tr><td>2809261554</td><td>-1</td><td>95030000000000.0</td><td>95030000000000.0</td></tr>\n",
       "<tr><td>...</td><td>...</td><td>...</td><td>...</td></tr>\n",
       "<tr><td>2821890540</td><td>2821900623</td><td>1395000000.0</td><td>37230000000000.0</td></tr>\n",
       "<tr><td>2821924303</td><td>2821924306</td><td>1395000000.0</td><td>3644000000000.0</td></tr>\n",
       "<tr><td>2821710596</td><td>2821710599</td><td>1240000000.0</td><td>6389000000000.0</td></tr>\n",
       "<tr><td>2821721241</td><td>2821721359</td><td>1240000000.0</td><td>98260000000000.0</td></tr>\n",
       "<tr><td>2821910638</td><td>2821910641</td><td>1240000000.0</td><td>15490000000000.0</td></tr>\n",
       "<tr><td>2821910961</td><td>2821910965</td><td>774800000.0</td><td>17730000000000.0</td></tr>\n",
       "<tr><td>2821890564</td><td>2821900623</td><td>619900000.0</td><td>37230000000000.0</td></tr>\n",
       "</table></div>"
      ],
      "text/plain": [
       "<Table length=1444186>\n",
       " halo_id   halo_upid      halo_mvir     halo_mvir_host_halo\n",
       "  int64      int64         float32            float32      \n",
       "---------- ---------- ----------------- -------------------\n",
       "2811042639         -1 200800000000000.0   200800000000000.0\n",
       "2811055606         -1 179600000000000.0   179600000000000.0\n",
       "2809250167         -1 129800000000000.0   129800000000000.0\n",
       "2809483946         -1 103000000000000.0   103000000000000.0\n",
       "2809272603         -1  99470000000000.0    99470000000000.0\n",
       "2809261554         -1  95030000000000.0    95030000000000.0\n",
       "       ...        ...               ...                 ...\n",
       "2821890540 2821900623      1395000000.0    37230000000000.0\n",
       "2821924303 2821924306      1395000000.0     3644000000000.0\n",
       "2821710596 2821710599      1240000000.0     6389000000000.0\n",
       "2821721241 2821721359      1240000000.0    98260000000000.0\n",
       "2821910638 2821910641      1240000000.0    15490000000000.0\n",
       "2821910961 2821910965       774800000.0    17730000000000.0\n",
       "2821890564 2821900623       619900000.0    37230000000000.0"
      ]
     },
     "execution_count": 53,
     "metadata": {},
     "output_type": "execute_result"
    }
   ],
   "source": [
    "cached_halocat.halo_table[\"halo_id\", \"halo_upid\", \"halo_mvir\", \"halo_mvir_host_halo\"]"
   ]
  },
  {
   "cell_type": "code",
   "execution_count": null,
   "id": "be2fce27-ba7c-4b52-95db-2cbe1284e9e8",
   "metadata": {},
   "outputs": [],
   "source": []
  }
 ],
 "metadata": {
  "kernelspec": {
   "display_name": "IA",
   "language": "python",
   "name": "ia"
  },
  "language_info": {
   "codemirror_mode": {
    "name": "ipython",
    "version": 3
   },
   "file_extension": ".py",
   "mimetype": "text/x-python",
   "name": "python",
   "nbconvert_exporter": "python",
   "pygments_lexer": "ipython3",
   "version": "3.10.12"
  }
 },
 "nbformat": 4,
 "nbformat_minor": 5
}
