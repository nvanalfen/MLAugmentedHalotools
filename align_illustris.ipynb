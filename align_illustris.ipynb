{
 "cells": [
  {
   "cell_type": "markdown",
   "id": "9e799bc7-2a2e-485a-bd36-0d33752d5dc4",
   "metadata": {},
   "source": [
    "# This Notebook Needs modular_alignments in the Same Directory"
   ]
  },
  {
   "cell_type": "code",
   "execution_count": 1,
   "id": "5205673c-af6d-4f3b-9a01-ad745cf0b8c1",
   "metadata": {},
   "outputs": [],
   "source": [
    "from __future__ import print_function, division\n",
    "import numpy as np\n",
    "from astropy.table import Table\n",
    "import matplotlib.pyplot as plt\n",
    "%matplotlib inline\n",
    "\n",
    "from halotools.utils import crossmatch\n",
    "from halotools.mock_observables import tpcf\n",
    "from halotools.mock_observables.ia_correlations import ee_3d, ed_3d\n",
    "\n",
    "import warnings\n",
    "warnings.filterwarnings(\"ignore\")"
   ]
  },
  {
   "cell_type": "code",
   "execution_count": 2,
   "id": "9c498459-9e3d-4f78-8dac-9af3be816718",
   "metadata": {},
   "outputs": [],
   "source": [
    "from modular_alignments.modular_alignment import align_to_halo, align_radially"
   ]
  },
  {
   "cell_type": "markdown",
   "id": "653e97ad-83ce-40d5-830c-16a8876c114e",
   "metadata": {},
   "source": [
    "# Variables"
   ]
  },
  {
   "cell_type": "code",
   "execution_count": 41,
   "id": "14cfbbdc-bab1-4a96-b886-4690bd183ff3",
   "metadata": {},
   "outputs": [],
   "source": [
    "cen_mu = 0.802\n",
    "sat_mu = 0.449\n",
    "cen_mu = 0.6\n",
    "sat_mu = 0.72\n",
    "Lbox = Lbox = np.array( [ 110.7, 110.7, 110.7 ] )"
   ]
  },
  {
   "cell_type": "code",
   "execution_count": 4,
   "id": "e8507c7f-776b-4498-a0e0-2a653bf8969a",
   "metadata": {},
   "outputs": [],
   "source": [
    "rbins = np.logspace(-1,1.2,21)\n",
    "rbin_centers = (rbins[:-1]+rbins[1:])/2.0"
   ]
  },
  {
   "cell_type": "markdown",
   "id": "636ca0fa-cf3f-4086-9ff6-9310efab6d49",
   "metadata": {},
   "source": [
    "# Load Data"
   ]
  },
  {
   "cell_type": "code",
   "execution_count": 5,
   "id": "9de5a420-b0db-4953-bd34-8da7aa7befdf",
   "metadata": {},
   "outputs": [],
   "source": [
    "def associated_crossmatch(x, y1, y2):\n",
    "    \"\"\"\n",
    "    Function for using crossmatch when a second value associated with the crossmatched y1 is desired.\n",
    "    e.g. you have the tyipcal x, y (what we call y1) as defined in crossmatch where crossmatch is used as follows:\n",
    "        Finds where the elements of ``x`` appear in the array ``y``, including repeats.\n",
    "\n",
    "        The elements in x may be repeated, but the elements in y must be unique.\n",
    "        The arrays x and y may be only partially overlapping.\n",
    "    In addition to this step, there is a second y2 associated with y1 such that each y1 is associated to exactly one y2.\n",
    "    This function is simply a convenient way to use the first crossmatch to access the proper entries of y2 associated with y1.\n",
    "    \n",
    "    y2 may be arbitrary dimensioned, so long as its first dimension equals the length of y2\n",
    "    \"\"\"\n",
    "    inds1, inds2 = crossmatch(x,y)\n",
    "    return y2[inds2]\n",
    "\n",
    "def get_host_halo_pos(galaxy_id, group_id, galaxy_positions, central_mask):\n",
    "    # By default (for centrals and any galaxies without a central for some reason), galaxy positions will be the host position\n",
    "    host_halo_positions = np.array( galaxy_positions )\n",
    "    \n",
    "    central_id = galaxy_id[central_mask]\n",
    "    central_group_id = group_id[central_mask]\n",
    "    \n",
    "    # Each central is the \"head\" of its group\n",
    "    # Therefore, there is at most one central for each group (some weird groups may not have one?)\n",
    "    # so if I crossmatch group_id -> central_group_id, central_group_id is lined up with central_id\n",
    "    # already, so while central_group_id[inds2] simply reproduces the sorted list of group_id,\n",
    "    # central_id[inds2] creates a list with the central_id associated with the group instead of the group itself\n",
    "    \n",
    "    inds1, inds2 = crossmatch(group_id, central_group_id)\n",
    "    # Preserve original order (crossmatch sorts by default)\n",
    "    order = np.argsort(inds1)\n",
    "    # print(inds1)\n",
    "    # inds1 = inds1[order]\n",
    "    # inds2 = inds2[order]\n",
    "    # print(inds1)\n",
    "    \n",
    "    associated_central_id = central_id[inds2]\n",
    "    host_id = np.array(galaxy_id)\n",
    "    host_id[inds1] = associated_central_id\n",
    "    \n",
    "    # Now that we have a list of the associated_central_id for each galaxy (the id of its central galaxy),\n",
    "    # we can do a similar process to assign positions\n",
    "    # if we crossmatch associated_central_id -> galaxy_id, while galaxy_id[inds2]\n",
    "    # would give a list of the central_id, positions[inds2] will give a list of the central positions\n",
    "    \n",
    "    inds1, inds2 = crossmatch(associated_central_id, galaxy_id)\n",
    "    # order = np.argsort(inds1)\n",
    "    # print(inds1)\n",
    "    # inds1 = inds1[order]\n",
    "    # inds2 = inds2[order]\n",
    "    # print(inds1)\n",
    "    \n",
    "    host_halo_positions[inds1] = galaxy_positions[inds2]\n",
    "    \n",
    "    return host_halo_positions\n",
    "    "
   ]
  },
  {
   "cell_type": "code",
   "execution_count": 6,
   "id": "5be9aecc-3a15-4f8c-95ed-ba2010280bf0",
   "metadata": {},
   "outputs": [],
   "source": [
    "g_id = np.array( [0,1,2,3,4,5,6,7,8,9,10] )\n",
    "gr_id = np.array( [0,0,0,2,1,2,3,3,3,4,4] )\n",
    "g_pos = np.array( [ [0,0,0], [1,1,1], [2,2,2], [3,3,3], [4,4,4], [5,5,5], [6,6,6], [7,7,7], [8,8,8], [9,9,9], [10,10,10] ] )\n",
    "mask = np.array( [1,0,0,1,1,0,1,0,0,1,0] ).astype(bool)\n",
    "# mask = np.array( [1,0,0,1,1,0,1,0,0,1,0] ).astype(bool)\n",
    "\n",
    "res = get_host_halo_pos(g_id, gr_id, g_pos, mask)"
   ]
  },
  {
   "cell_type": "code",
   "execution_count": 7,
   "id": "535a20ea-53a5-41bd-92c8-71e17cc503a6",
   "metadata": {},
   "outputs": [
    {
     "data": {
      "text/plain": [
       "array([[0, 0, 0],\n",
       "       [0, 0, 0],\n",
       "       [0, 0, 0],\n",
       "       [4, 4, 4],\n",
       "       [3, 3, 3],\n",
       "       [3, 3, 3],\n",
       "       [6, 6, 6],\n",
       "       [6, 6, 6],\n",
       "       [6, 6, 6],\n",
       "       [9, 9, 9],\n",
       "       [9, 9, 9]])"
      ]
     },
     "execution_count": 7,
     "metadata": {},
     "output_type": "execute_result"
    }
   ],
   "source": [
    "res"
   ]
  },
  {
   "cell_type": "code",
   "execution_count": null,
   "id": "9761502a-28a5-4f47-9130-1be96c58674b",
   "metadata": {},
   "outputs": [],
   "source": []
  },
  {
   "cell_type": "code",
   "execution_count": 8,
   "id": "0935503c-4a63-47a6-b3a3-c1bc36e10199",
   "metadata": {},
   "outputs": [],
   "source": [
    "import pickle\n",
    "f_name = \"TNG100-1_99_non-reduced_galaxy_shapes_multi_scale_1024_MLP_only_cent.pkl\"\n",
    "with open(f_name, 'rb') as file:\n",
    "    data = pickle.load(file)"
   ]
  },
  {
   "cell_type": "code",
   "execution_count": 9,
   "id": "26448b40-9d60-4fc0-b001-aac0ebd570a2",
   "metadata": {},
   "outputs": [],
   "source": [
    "galaxy_coords = np.array( [ data[\"gal_pos_x\"], data[\"gal_pos_y\"], data[\"gal_pos_z\"] ] ).T\n",
    "galaxy_orientations = np.array( [ data[\"av_x\"], data[\"av_y\"], data[\"av_z\"] ] ).T\n",
    "halo_orientations = np.array( [ data[\"dm_av_x\"], data[\"dm_av_y\"], data[\"dm_av_z\"] ] ).T\n",
    "central_mask = data[\"central_bool\"].astype(bool)\n",
    "\n",
    "host_halo_positions = get_host_halo_pos( data[\"gal_id\"], data[\"GroupID\"], galaxy_coords, central_mask )"
   ]
  },
  {
   "cell_type": "code",
   "execution_count": 42,
   "id": "2523dc15-4f58-4e9d-a27f-c708e2c6405e",
   "metadata": {},
   "outputs": [],
   "source": [
    "cen_major, cen_inter, cen_minor = align_to_halo(halo_orientations[central_mask][:,0], halo_orientations[central_mask][:,1], halo_orientations[central_mask][:,2],\n",
    "                                 cen_mu)\n",
    "sat_major, sat_inter, sat_minor = align_radially(host_halo_positions[~central_mask][:,0], host_halo_positions[~central_mask][:,1], host_halo_positions[~central_mask][:,2],\n",
    "                                  galaxy_coords[~central_mask][:,0], galaxy_coords[~central_mask][:,1], galaxy_coords[~central_mask][:,2],\n",
    "                                 Lbox, sat_mu)\n",
    "\n",
    "galaxy_orientations[central_mask] = cen_major\n",
    "galaxy_orientations[~central_mask] = sat_major"
   ]
  },
  {
   "cell_type": "markdown",
   "id": "8d64c877-5479-4258-b0be-0d2e47ec651b",
   "metadata": {},
   "source": [
    "# Get Correlations"
   ]
  },
  {
   "cell_type": "code",
   "execution_count": 11,
   "id": "adea2c4b-1d04-47a1-a14c-da8244eda46f",
   "metadata": {},
   "outputs": [],
   "source": [
    "# Let's look at the halos themselves\n",
    "halo_coords = np.array( [ data[\"gal_pos_x\"], data[\"gal_pos_y\"], data[\"gal_pos_z\"] ] ).T\n",
    "halo_orientation = np.array( [ data[\"dm_av_x\"], data[\"dm_av_y\"], data[\"dm_av_z\"] ] ).T\n",
    "\n",
    "halo_xi = tpcf(halo_coords, rbins, period = Lbox)\n",
    "halo_omega = ed_3d(halo_coords, halo_orientation, halo_coords, rbins, period=Lbox)\n",
    "halo_eta = ee_3d(halo_coords, halo_orientation, halo_coords, halo_orientation, rbins, period=Lbox)"
   ]
  },
  {
   "cell_type": "code",
   "execution_count": 12,
   "id": "c8a2a223-bacb-4f34-b033-d75c20185d7b",
   "metadata": {},
   "outputs": [],
   "source": [
    "# Get correlations from all the galaxies in data\n",
    "data_coords_all = np.array( [ data[\"gal_pos_x\"], data[\"gal_pos_y\"], data[\"gal_pos_z\"] ] ).T\n",
    "data_orientations_all = np.array( [ data[\"av_x\"], data[\"av_y\"], data[\"av_z\"] ] ).T\n",
    "all_data_xi = tpcf(data_coords_all, rbins, period = Lbox)\n",
    "all_data_omega = ed_3d(data_coords_all, data_orientations_all, data_coords_all, rbins, period=Lbox)\n",
    "all_data_eta = ee_3d(data_coords_all, data_orientations_all, data_coords_all, data_orientations_all, rbins, period=Lbox)"
   ]
  },
  {
   "cell_type": "code",
   "execution_count": 43,
   "id": "1f998ea6-d388-474a-ba73-5837b7c6a476",
   "metadata": {},
   "outputs": [],
   "source": [
    "# And finally from our alignment\n",
    "xi = tpcf(galaxy_coords, rbins, period = Lbox)\n",
    "omega = ed_3d(galaxy_coords, galaxy_orientations, galaxy_coords, rbins, period=Lbox)\n",
    "eta = ee_3d(galaxy_coords, galaxy_orientations, galaxy_coords, galaxy_orientations, rbins, period=Lbox)"
   ]
  },
  {
   "cell_type": "markdown",
   "id": "144a4929-fd59-4e2b-9f3a-6971309f7512",
   "metadata": {},
   "source": [
    "# Plots"
   ]
  },
  {
   "cell_type": "code",
   "execution_count": 44,
   "id": "a4d34527-ccdd-4004-aecd-69fbc62c5237",
   "metadata": {},
   "outputs": [
    {
     "data": {
      "image/png": "[encoded data removed]",
      "text/plain": [
       "<Figure size 1200x400 with 3 Axes>"
      ]
     },
     "metadata": {},
     "output_type": "display_data"
    }
   ],
   "source": [
    "# Create a 1x3 grid of subplots\n",
    "fig, axes = plt.subplots(1, 3, figsize=(12, 4))\n",
    "\n",
    "show_natural = True\n",
    "show_absolute = False\n",
    "\n",
    "axes[0].set_title(r'$\\xi$')\n",
    "axes[1].set_title(r'$\\omega$')\n",
    "axes[2].set_title(r'$\\eta$')\n",
    "\n",
    "if show_natural:\n",
    "    axes[0].plot(rbin_centers, xi, label=\"Modular Alignments\")\n",
    "    axes[0].plot(rbin_centers, all_data_xi, label=\"Data Table\")\n",
    "    axes[0].plot(rbin_centers, halo_xi, \"o\", color=\"black\", label=\"Halo\") \n",
    "    \n",
    "    axes[1].plot(rbin_centers, omega)\n",
    "    axes[1].plot(rbin_centers, all_data_omega)\n",
    "    axes[1].plot(rbin_centers, halo_omega, \"o\", color=\"black\")\n",
    "    \n",
    "    axes[2].plot(rbin_centers, eta)\n",
    "    axes[2].plot(rbin_centers, all_data_eta)\n",
    "    axes[2].plot(rbin_centers, halo_eta, \"o\", color=\"black\")\n",
    "    \n",
    "\n",
    "if show_absolute:\n",
    "    # Plot data in the first subplot\n",
    "    axes[0].plot(rbin_centers, abs(halo_xi), \":x\", label=\"Abs(Halo)\")\n",
    "    # Plot data in the second subplot\n",
    "    axes[1].plot(rbin_centers, abs(halo_omega), \":x\")\n",
    "    # Plot data in the third subplot\n",
    "    axes[2].plot(rbin_centers, abs(halo_eta), \":x\")\n",
    "\n",
    "# Adjust spacing between subplots\n",
    "plt.tight_layout()\n",
    "axes[0].legend()\n",
    "\n",
    "# Display the plots\n",
    "for ax in axes:\n",
    "    ax.set_xscale(\"log\")\n",
    "    if not ax is axes[2]:\n",
    "        ax.set_yscale(\"log\")\n",
    "    ax.set_xlabel(r\"r(Mpc $h^{-1}$)\")\n",
    "plt.show()"
   ]
  },
  {
   "cell_type": "code",
   "execution_count": null,
   "id": "0250025a-3711-4004-9d72-341fce8420cf",
   "metadata": {},
   "outputs": [],
   "source": []
  }
 ],
 "metadata": {
  "kernelspec": {
   "display_name": "IA",
   "language": "python",
   "name": "ia"
  },
  "language_info": {
   "codemirror_mode": {
    "name": "ipython",
    "version": 3
   },
   "file_extension": ".py",
   "mimetype": "text/x-python",
   "name": "python",
   "nbconvert_exporter": "python",
   "pygments_lexer": "ipython3",
   "version": "3.10.12"
  }
 },
 "nbformat": 4,
 "nbformat_minor": 5
}
